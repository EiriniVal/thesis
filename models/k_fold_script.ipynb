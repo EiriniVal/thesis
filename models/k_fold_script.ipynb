{
 "cells": [
  {
   "cell_type": "code",
   "execution_count": 27,
   "id": "portable-basis",
   "metadata": {},
   "outputs": [],
   "source": [
    "import numpy as np\n",
    "from sklearn.model_selection import train_test_split\n",
    "from sklearn import datasets\n",
    "from sklearn import svm\n",
    "from sklearn.model_selection import cross_val_score\n",
    "from sklearn.model_selection import KFold\n",
    "from sklearn.model_selection import ShuffleSplit\n"
   ]
  },
  {
   "cell_type": "code",
   "execution_count": 11,
   "id": "mathematical-courage",
   "metadata": {},
   "outputs": [],
   "source": [
    "X, y = datasets.load_iris(return_X_y=True)"
   ]
  },
  {
   "cell_type": "code",
   "execution_count": 12,
   "id": "instant-clock",
   "metadata": {},
   "outputs": [
    {
     "data": {
      "text/plain": [
       "(150, 4)"
      ]
     },
     "execution_count": 12,
     "metadata": {},
     "output_type": "execute_result"
    }
   ],
   "source": [
    "# X is an array of 150 dimensions (arrays), each of which has 4 dimenisons\n",
    "\n",
    "X.shape"
   ]
  },
  {
   "cell_type": "code",
   "execution_count": 13,
   "id": "legal-astronomy",
   "metadata": {},
   "outputs": [
    {
     "data": {
      "text/plain": [
       "(150,)"
      ]
     },
     "execution_count": 13,
     "metadata": {},
     "output_type": "execute_result"
    }
   ],
   "source": [
    "y.shape"
   ]
  },
  {
   "cell_type": "code",
   "execution_count": 14,
   "id": "dense-divide",
   "metadata": {},
   "outputs": [
    {
     "data": {
      "text/plain": [
       "((120, 4), (120,))"
      ]
     },
     "execution_count": 14,
     "metadata": {},
     "output_type": "execute_result"
    }
   ],
   "source": [
    "# split data\n",
    "##random state:  Controls the shuffling applied to the data before applying the split. Pass an int for reproducible output across multiple function calls.\n",
    "X_train, X_test, y_train, y_test = train_test_split(X, y, test_size=0.2, random_state=0)\n",
    "\n",
    "\n",
    "X_train.shape, y_train.shape"
   ]
  },
  {
   "cell_type": "code",
   "execution_count": 15,
   "id": "static-health",
   "metadata": {},
   "outputs": [
    {
     "data": {
      "text/plain": [
       "((30, 4), (30,))"
      ]
     },
     "execution_count": 15,
     "metadata": {},
     "output_type": "execute_result"
    }
   ],
   "source": [
    "X_test.shape, y_test.shape"
   ]
  },
  {
   "cell_type": "markdown",
   "id": "peaceful-personal",
   "metadata": {},
   "source": [
    "When evaluating different settings (“hyperparameters”) for estimators, such as the C setting that must be manually set for an SVM, there is still a risk of overfitting on the test set because the parameters can be tweaked until the estimator performs optimally. This way, knowledge about the test set can “leak” into the model and evaluation metrics no longer report on generalization performance. To solve this problem, yet another part of the dataset can be held out as a so-called “validation set”: training proceeds on the training set, after which evaluation is done on the validation set, and when the experiment seems to be successful, final evaluation can be done on the test set.\n",
    "\n",
    "However, by partitioning the available data into three sets, we drastically reduce the number of samples which can be used for learning the model, and the results can depend on a particular random choice for the pair of (train, validation) sets.\n",
    "\n",
    "A solution to this problem is a procedure called cross-validation (CV for short). A test set should still be held out for final evaluation, but the validation set is no longer needed when doing CV. In the basic approach, called k-fold CV, the training set is split into k smaller sets (other approaches are described below, but generally follow the same principles). "
   ]
  },
  {
   "cell_type": "code",
   "execution_count": 17,
   "id": "collectible-roulette",
   "metadata": {},
   "outputs": [],
   "source": [
    "clf = svm.SVC(kernel='linear', C=1, random_state=42)\n",
    "scores = cross_val_score(clf, X, y, cv=5)"
   ]
  },
  {
   "cell_type": "code",
   "execution_count": 18,
   "id": "infinite-relationship",
   "metadata": {},
   "outputs": [
    {
     "data": {
      "text/plain": [
       "array([0.96666667, 1.        , 0.96666667, 0.96666667, 1.        ])"
      ]
     },
     "execution_count": 18,
     "metadata": {},
     "output_type": "execute_result"
    }
   ],
   "source": [
    "scores"
   ]
  },
  {
   "cell_type": "code",
   "execution_count": 19,
   "id": "incorrect-blake",
   "metadata": {
    "scrolled": true
   },
   "outputs": [
    {
     "name": "stdout",
     "output_type": "stream",
     "text": [
      "0.98 accuracy with a standard deviation of 0.02\n"
     ]
    }
   ],
   "source": [
    "print(\"%0.2f accuracy with a standard deviation of %0.2f\" % (scores.mean(), scores.std()))"
   ]
  },
  {
   "cell_type": "code",
   "execution_count": 3,
   "id": "legendary-regard",
   "metadata": {},
   "outputs": [
    {
     "data": {
      "text/plain": [
       "KFold(n_splits=10, random_state=None, shuffle=False)"
      ]
     },
     "execution_count": 3,
     "metadata": {},
     "output_type": "execute_result"
    }
   ],
   "source": [
    "my_data = [\"a\",\"b\",\"c\",\"d\",\"e\",\"f\",\"g\",\"h\",\"i\",\"j\", \"k\", \"l\"]\n",
    "kf = KFold(n_splits=10)\n",
    "kf"
   ]
  },
  {
   "cell_type": "code",
   "execution_count": 26,
   "id": "harmful-invalid",
   "metadata": {},
   "outputs": [
    {
     "name": "stdout",
     "output_type": "stream",
     "text": [
      "[ 2  3  4  5  6  7  8  9 10 11] [0 1]\n",
      "[ 0  1  4  5  6  7  8  9 10 11] [2 3]\n",
      "[ 0  1  2  3  5  6  7  8  9 10 11] [4]\n",
      "[ 0  1  2  3  4  6  7  8  9 10 11] [5]\n",
      "[ 0  1  2  3  4  5  7  8  9 10 11] [6]\n",
      "[ 0  1  2  3  4  5  6  8  9 10 11] [7]\n",
      "[ 0  1  2  3  4  5  6  7  9 10 11] [8]\n",
      "[ 0  1  2  3  4  5  6  7  8 10 11] [9]\n",
      "[ 0  1  2  3  4  5  6  7  8  9 11] [10]\n",
      "[ 0  1  2  3  4  5  6  7  8  9 10] [11]\n"
     ]
    }
   ],
   "source": [
    "for train, test in kf.split(my_data):\n",
    "    print(\"%s %s\" % (train, test))"
   ]
  },
  {
   "cell_type": "code",
   "execution_count": 28,
   "id": "traditional-percentage",
   "metadata": {},
   "outputs": [],
   "source": [
    "ss = ShuffleSplit(n_splits=10, test_size=0.20, random_state=0)"
   ]
  },
  {
   "cell_type": "code",
   "execution_count": 42,
   "id": "sunrise-contact",
   "metadata": {},
   "outputs": [
    {
     "name": "stdout",
     "output_type": "stream",
     "text": [
      "[10  2  8  1  7  9  3  0  5] [ 6 11  4]\n",
      "[ 4  9  0 11  7  6  1 10  8] [5 2 3]\n",
      "[ 2  7  5 11  0  3  4  9  8] [ 6  1 10]\n",
      "[ 9  5  6  1  0  7 10 11  3] [2 4 8]\n",
      "[ 5 11  2  8  6  3  7  4 10] [1 9 0]\n",
      "[ 9  8  1 11  0  6 10  5  4] [3 7 2]\n",
      "[ 2  5  3 11  9  7 10  1  8] [0 6 4]\n",
      "[ 7  9  6  8 10  4  5  3  0] [ 1  2 11]\n",
      "[ 1  0  6  5  2  3 11  8  4] [ 9  7 10]\n",
      "[ 8  6  4  2  1 10  5  0  3] [11  9  7]\n"
     ]
    }
   ],
   "source": [
    "for train_index, test_index in ss.split(my_data):\n",
    "    print(\"%s %s\" % (train_index, test_index))\n"
   ]
  },
  {
   "cell_type": "code",
   "execution_count": 40,
   "id": "adolescent-colony",
   "metadata": {},
   "outputs": [
    {
     "name": "stdout",
     "output_type": "stream",
     "text": [
      "['k', 'c', 'i', 'b', 'h', 'j', 'd', 'a', 'f'] ['g', 'l', 'e']\n",
      "['e', 'j', 'a', 'l', 'h', 'g', 'b', 'k', 'i'] ['f', 'c', 'd']\n",
      "['c', 'h', 'f', 'l', 'a', 'd', 'e', 'j', 'i'] ['g', 'b', 'k']\n",
      "['j', 'f', 'g', 'b', 'a', 'h', 'k', 'l', 'd'] ['c', 'e', 'i']\n",
      "['f', 'l', 'c', 'i', 'g', 'd', 'h', 'e', 'k'] ['b', 'j', 'a']\n",
      "['j', 'i', 'b', 'l', 'a', 'g', 'k', 'f', 'e'] ['d', 'h', 'c']\n",
      "['c', 'f', 'd', 'l', 'j', 'h', 'k', 'b', 'i'] ['a', 'g', 'e']\n",
      "['h', 'j', 'g', 'i', 'k', 'e', 'f', 'd', 'a'] ['b', 'c', 'l']\n",
      "['b', 'a', 'g', 'f', 'c', 'd', 'l', 'i', 'e'] ['j', 'h', 'k']\n",
      "['i', 'g', 'e', 'c', 'b', 'k', 'f', 'a', 'd'] ['l', 'j', 'h']\n"
     ]
    }
   ],
   "source": [
    "for train_index, test_index in ss.split(my_data):\n",
    "    print([my_data[train_index[j]] for j in range(len(train_index))], \n",
    "         [my_data[test_index[i]] for i in range(len(test_index))])\n",
    "#     print(\"%s %s\" % (train_index, test_index))\n",
    "#     print(\"%s %s\" % (train_index, test_index))\n",
    "            "
   ]
  },
  {
   "cell_type": "code",
   "execution_count": 1,
   "id": "particular-break",
   "metadata": {},
   "outputs": [
    {
     "name": "stdout",
     "output_type": "stream",
     "text": [
      "KFold(n_splits=10, random_state=1, shuffle=True)\n"
     ]
    }
   ],
   "source": [
    "from sklearn.model_selection import KFold\n",
    "from sklearn.model_selection import cross_val_score\n",
    "cv = KFold(n_splits=10, random_state=1, shuffle=True)\n",
    "print(cv)"
   ]
  },
  {
   "cell_type": "code",
   "execution_count": 6,
   "id": "brave-evans",
   "metadata": {},
   "outputs": [
    {
     "name": "stdout",
     "output_type": "stream",
     "text": [
      "TRAIN: [ 2  3  4  5  6  7  8  9 10 11] TEST: [0 1]\n",
      "TRAIN: [ 0  1  4  5  6  7  8  9 10 11] TEST: [2 3]\n",
      "TRAIN: [ 0  1  2  3  5  6  7  8  9 10 11] TEST: [4]\n",
      "TRAIN: [ 0  1  2  3  4  6  7  8  9 10 11] TEST: [5]\n",
      "TRAIN: [ 0  1  2  3  4  5  7  8  9 10 11] TEST: [6]\n",
      "TRAIN: [ 0  1  2  3  4  5  6  8  9 10 11] TEST: [7]\n",
      "TRAIN: [ 0  1  2  3  4  5  6  7  9 10 11] TEST: [8]\n",
      "TRAIN: [ 0  1  2  3  4  5  6  7  8 10 11] TEST: [9]\n",
      "TRAIN: [ 0  1  2  3  4  5  6  7  8  9 11] TEST: [10]\n",
      "TRAIN: [ 0  1  2  3  4  5  6  7  8  9 10] TEST: [11]\n"
     ]
    }
   ],
   "source": [
    "kf = KFold(n_splits=10)\n",
    "for train_index, test_index in kf.split(my_data):\n",
    "    print(\"TRAIN:\", train_index, \"TEST:\", test_index)\n"
   ]
  }
 ],
 "metadata": {
  "kernelspec": {
   "display_name": "Python 3",
   "language": "python",
   "name": "python3"
  },
  "language_info": {
   "codemirror_mode": {
    "name": "ipython",
    "version": 3
   },
   "file_extension": ".py",
   "mimetype": "text/x-python",
   "name": "python",
   "nbconvert_exporter": "python",
   "pygments_lexer": "ipython3",
   "version": "3.8.5"
  }
 },
 "nbformat": 4,
 "nbformat_minor": 5
}
